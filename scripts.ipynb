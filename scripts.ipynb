{
 "cells": [
  {
   "cell_type": "code",
   "execution_count": 1,
   "metadata": {},
   "outputs": [
    {
     "name": "stdout",
     "output_type": "stream",
     "text": [
      "A probabilidade do evento acontecer com essa odd é de 45.45%\n"
     ]
    }
   ],
   "source": [
    "# Transformação das odds em probabilidade back (Aposta a favor de algo)\n",
    "# Para isso, utilizamos um cálculo simples e um sistema de condição que verifica se a odd é menor ou igual a 0, caso ela não seja, o valor é calculado com sucesso.\n",
    "\n",
    "odd = float(input('Qual a respectiva odd?'))\n",
    "\n",
    "if odd < 0:\n",
    "    print('Não é possível realizar a conta devido ao número negativo da odd')\n",
    "\n",
    "elif odd == 0:\n",
    "    print('O valor da odd é 0, por isso não é possível realizar a conta')\n",
    "\n",
    "else:\n",
    "    resultado = 100/odd\n",
    "    print(f'A probabilidade do evento acontecer com essa odd é de {resultado:.2f}%')"
   ]
  },
  {
   "cell_type": "code",
   "execution_count": 1,
   "metadata": {},
   "outputs": [
    {
     "name": "stdout",
     "output_type": "stream",
     "text": [
      "A probabilidade do evento não acontecer com essa odd é de 77.27%\n"
     ]
    }
   ],
   "source": [
    "# Transformação das odds em probabilidade lay (Aposta contra algo)\n",
    "# Para isso, usilizamos um cálculo simples dentro de uma função que calcula o Lay da aposta automaticamente, basta o usuário colocar o valor da odd desejada\n",
    "\n",
    "def calcularLay():\n",
    "\n",
    "    odd = float(input('Qual a respectiva odd?'))\n",
    "\n",
    "    resultado = 100/odd\n",
    "\n",
    "    resultadoFinal = 100 - resultado\n",
    "    return resultadoFinal\n",
    "\n",
    "lay = calcularLay()\n",
    "\n",
    "print(f'A probabilidade do evento não acontecer com essa odd é de {lay:.2f}%')"
   ]
  },
  {
   "cell_type": "code",
   "execution_count": 13,
   "metadata": {},
   "outputs": [
    {
     "name": "stdout",
     "output_type": "stream",
     "text": [
      "Odds ajustadas com margem de lucro:\n",
      "Vitória do corredor A: 2.10\n",
      "Vitória do corredor B: 4.20\n",
      "Vitória do corredor C: 4.20\n",
      "\n",
      "Probabilidades ajustadas:\n",
      "Vitória do corredor A: 47.62%\n",
      "Vitória do corredor B: 23.81%\n",
      "Vitória do corredor C: 23.81%\n",
      "Soma das probabilidades ajustadas: 95.24%\n"
     ]
    }
   ],
   "source": [
    "# Definindo os valores das odds e as probabilidades ajustadas\n",
    "# Primeiro ajustamos as odds por meio das probabilidades e pela margem de lucro para nós, depois inserimos essa margem de lucro no valor da soma. Depois fizemos a conta das probabilidades ajustadas e as convertemos em odds. Logo após isso, perguntamos ao usuário as probabilidades de ganho de cada corredor em probabilidade (valor em float) e mostramos nosso lucro desejado, que fica em torno de 5%. Depois disso, precisamos ajustar os valores das odds e printá-las na tela juntamente das probabilidades ajustadas.\n",
    "\n",
    "def calcular_odds_ajustadas(probabilidades, margem_lucro):\n",
    "    \n",
    "    soma_probabilidades = sum(probabilidades)\n",
    "\n",
    "    \n",
    "    soma_ajustada = soma_probabilidades * (1 + margem_lucro)\n",
    "\n",
    "    \n",
    "    probabilidades_ajustadas = [p / soma_ajustada for p in probabilidades]\n",
    "\n",
    "    \n",
    "    odds_ajustadas = [1 / p for p in probabilidades_ajustadas]\n",
    "\n",
    "    return odds_ajustadas\n",
    "\n",
    "# Probabilidades iniciais (em porcentagem)\n",
    "prob_vitoria_corredor_a = float(input('Qual a probabilidade do corredor A ganhar?'))\n",
    "prob_vitoria_corredor_b = float(input('Qual a probabilidade do corredor B ganhar?'))\n",
    "prob_vitoria_corredor_c = float(input('Qual a probabilidade do corredor C ganhar?'))\n",
    "\n",
    "\n",
    "margem_lucro = 0.05\n",
    "\n",
    "\n",
    "probabilidades = [prob_vitoria_corredor_a, prob_vitoria_corredor_b, prob_vitoria_corredor_c]\n",
    "\n",
    "\n",
    "odds_ajustadas = calcular_odds_ajustadas(probabilidades, margem_lucro)\n",
    "\n",
    "\n",
    "print(\"Odds ajustadas com margem de lucro:\")\n",
    "print(f\"Vitória do corredor A: {odds_ajustadas[0]:.2f}\")\n",
    "print(f\"Vitória do corredor B: {odds_ajustadas[1]:.2f}\")\n",
    "print(f\"Vitória do corredor C: {odds_ajustadas[2]:.2f}\")\n",
    "\n",
    "\n",
    "probabilidades_ajustadas = [1 / odd for odd in odds_ajustadas]\n",
    "print(\"\\nProbabilidades ajustadas:\")\n",
    "print(f\"Vitória do corredor A: {probabilidades_ajustadas[0] * 100:.2f}%\")\n",
    "print(f\"Vitória do corredor B: {probabilidades_ajustadas[1] * 100:.2f}%\")\n",
    "print(f\"Vitória do corredor C: {probabilidades_ajustadas[2] * 100:.2f}%\")\n",
    "print(f\"Soma das probabilidades ajustadas: {sum(probabilidades_ajustadas) * 100:.2f}%\")\n"
   ]
  },
  {
   "cell_type": "code",
   "execution_count": null,
   "metadata": {},
   "outputs": [],
   "source": []
  }
 ],
 "metadata": {
  "kernelspec": {
   "display_name": "base",
   "language": "python",
   "name": "python3"
  },
  "language_info": {
   "codemirror_mode": {
    "name": "ipython",
    "version": 3
   },
   "file_extension": ".py",
   "mimetype": "text/x-python",
   "name": "python",
   "nbconvert_exporter": "python",
   "pygments_lexer": "ipython3",
   "version": "3.11.5"
  }
 },
 "nbformat": 4,
 "nbformat_minor": 2
}
